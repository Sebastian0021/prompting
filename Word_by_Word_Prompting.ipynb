{
  "nbformat": 4,
  "nbformat_minor": 0,
  "metadata": {
    "colab": {
      "provenance": [],
      "collapsed_sections": [
        "s0gKUznTA-C6"
      ]
    },
    "kernelspec": {
      "name": "python3",
      "display_name": "Python 3"
    },
    "language_info": {
      "name": "python"
    }
  },
  "cells": [
    {
      "cell_type": "markdown",
      "source": [
        "# Word by Word"
      ],
      "metadata": {
        "id": "oFITWsG3Dxa0"
      }
    },
    {
      "cell_type": "markdown",
      "source": [
        "\n",
        "\n",
        "> Una extensión de Chrome que utiliza inteligencia artificial para facilitar el aprendizaje personalizado del inglés a través de la traducción contextual, escritura asistida y análisis del progreso.\n",
        "\n"
      ],
      "metadata": {
        "id": "-RLTRbXTf24u"
      }
    },
    {
      "cell_type": "markdown",
      "source": [
        "## Configuración"
      ],
      "metadata": {
        "id": "LWON8faFE6_P"
      }
    },
    {
      "cell_type": "code",
      "source": [
        "!pip install -U -q google-generativeai # Install the Python SDK"
      ],
      "metadata": {
        "id": "Qibv6JqdAjfl"
      },
      "execution_count": null,
      "outputs": []
    },
    {
      "cell_type": "code",
      "source": [
        "import google.generativeai as genai"
      ],
      "metadata": {
        "id": "okW-K9hiAkzn"
      },
      "execution_count": null,
      "outputs": []
    },
    {
      "cell_type": "code",
      "source": [
        "from google.colab import userdata\n",
        "GOOGLE_API_KEY=userdata.get('GEMINI_API_KEY')\n",
        "genai.configure(api_key=GOOGLE_API_KEY)"
      ],
      "metadata": {
        "id": "u6xMJ3xbAmNH"
      },
      "execution_count": null,
      "outputs": []
    },
    {
      "cell_type": "code",
      "source": [
        "# Create the model\n",
        "generation_config = {\n",
        "  \"temperature\": 0.1,\n",
        "  \"top_p\": 0.95,\n",
        "  \"top_k\": 64,\n",
        "  \"max_output_tokens\": 8192,\n",
        "  \"response_mime_type\": \"text/plain\",\n",
        "}"
      ],
      "metadata": {
        "id": "WvmsR970Ar3L"
      },
      "execution_count": null,
      "outputs": []
    },
    {
      "cell_type": "markdown",
      "source": [
        "\n",
        "\n",
        "> En los 2 prompts utilizo la misma configuración con 'temperatura': 0.1 para que el modelo resultado más apegado a lo que le pido\n",
        "\n"
      ],
      "metadata": {
        "id": "LxfkbC7rVmMH"
      }
    },
    {
      "cell_type": "markdown",
      "source": [
        "## Prompts"
      ],
      "metadata": {
        "id": "KkX3Ljg6LYY0"
      }
    },
    {
      "cell_type": "markdown",
      "source": [
        "Mi proyecto utilizaría más de un modelo o de un contexto para responder a diferentes funcionalidades. Por lo que hice varios promps dependiendo la funcionalidad o el modelo que quiera utilizar."
      ],
      "metadata": {
        "id": "4V3Sbh9FRHyQ"
      }
    },
    {
      "cell_type": "markdown",
      "source": [
        "### Traducción contextual\n",
        "\n",
        "\n",
        "\n",
        "\n",
        "\n",
        "\n",
        "\n",
        "\n",
        "\n",
        "\n"
      ],
      "metadata": {
        "id": "s0gKUznTA-C6"
      }
    },
    {
      "cell_type": "markdown",
      "source": [
        "La función de traducción concetextual es una de la principales funciones de mi proyecto, por lo que decidí utilizar tecnicas de prompting para la misma.\n",
        "\n",
        "En el prompt que hice utilizo el principio de la tecnica One-shot Prompting, dadonle un ejemplo de lo que debe hacer y que salida debe dar al modelo como contexto."
      ],
      "metadata": {
        "id": "Cxs1aIQFRfeP"
      }
    },
    {
      "cell_type": "markdown",
      "source": [
        "**Model Instruction**\n",
        "\n",
        "Full context:\n",
        "Eres un traductor de inglés a español, te daré un texto y una o varias palabras, tu en base al contexto del texto me dirás la traducción de la palabra. Y luego me mencionarás un ejemplo de uso de esa misma palabra en un contexto diferente.\n",
        "\n",
        "Pasos:\n",
        "1. Entiende el contexto del texto\n",
        "2. Traduce la palabra que se encuentra rodiada al final del texto rediada entre corchetes con este formato = {palabra}\n",
        "3. Da un ejemplo del uso de esa misma palabra pero en un contexto cotidiano en inglés y luego la traducción del ejemplo\n",
        "\n",
        "Formato de entrada:\n",
        "\n",
        "Texto que contiene una palabra rodiada con corchetes al final del mismo para a traducir\n",
        "\n",
        "Formato de Salida:\n",
        "Texto plano en el que se mencione la traducción y el significado de la palabra y el ejemplo de uso en un contexto cotidiano diferente al texto\n",
        "\n",
        "Ejemplo de salida:\n",
        "\n",
        "User:\n",
        "In programming, a well-written function can make your code more modular and easier to understand.{function}\n",
        "\n",
        "Model:\n",
        "La palabra \"function\" en este contexto se traduce como \"función\". Aquí se refiere a un bloque de código que realiza una tarea específica y puede ser reutilizado.\n",
        "\n",
        "En un contexto diferente, \"function\" también puede referirse a un evento o actividad social, como una reunión o ceremonia. Por ejemplo, Inglés: \"The charity function was attended by many local celebrities.\" En español: \"El evento benéfico fue atendido por muchas celebridades locales.\""
      ],
      "metadata": {
        "id": "8fJmrphdERBN"
      }
    },
    {
      "cell_type": "code",
      "source": [
        "model = genai.GenerativeModel(\n",
        "  model_name=\"gemini-1.5-flash\",\n",
        "  generation_config=generation_config,\n",
        "  # safety_settings = Adjust safety settings\n",
        "  # See https://ai.google.dev/gemini-api/docs/safety-settings\n",
        "  system_instruction=\"Full context: \\nEres un traductor de inglés a español, te daré un texto y una o varias palabras, tu en base al contexto del texto me dirás la traducción de la palabra. Y luego me mencionarás un ejemplo de uso de esa misma palabra en un contexto diferente.\\n\\nPasos:\\n1. Entiende el contexto del texto\\n2. Traduce la palabra que se encuentra rodiada al final del texto rediada entre corchetes con este formato = {palabra}\\n3. Da un ejemplo del uso de esa misma palabra pero en un contexto cotidiano en inglés y luego la traducción del ejemplo\\n\\nFormato de entrada:\\n\\nTexto que contiene una palabra rodiada con corchetes al final del mismo para a traducir\\n\\nFormato de Salida:\\nTexto plano en el que se mencione la traducción y el significado de la palabra y el ejemplo de uso en un contexto cotidiano diferente al texto\\n\\nEjemplo de salida: \\n\\nUser: \\nIn programming, a well-written function can make your code more modular and easier to understand.{function}\\n\\nModel: \\nLa palabra \\\"function\\\" en este contexto se traduce como \\\"función\\\". Aquí se refiere a un bloque de código que realiza una tarea específica y puede ser reutilizado.\\n\\nEn un contexto diferente, \\\"function\\\" también puede referirse a un evento o actividad social, como una reunión o ceremonia. Por ejemplo, Inglés: \\\"The charity function was attended by many local celebrities.\\\" En español: \\\"El evento benéfico fue atendido por muchas celebridades locales.\\\"\",\n",
        ")"
      ],
      "metadata": {
        "id": "aQivCIMpBW7P"
      },
      "execution_count": null,
      "outputs": []
    },
    {
      "cell_type": "markdown",
      "source": [
        "**Input del usuario**\n",
        "\n",
        "\n",
        "From the early days of the home computer, the dominant mode of creation for developers has long been building, customizing, and deploying software with code. Today, in the age of AI, a secondary and equally important mode of creation is rapidly emerging: the ability to leverage machine learning models. Increasingly, developers are building generative AI applications where the full stack contains backend and frontend code plus one or more machine learning models. With GitHub Models, developers can now explore these models on github.com, integrate them into their dev environment in Codespaces and VS Code, and leverage them during CI/CD in Actions – all simply with their GitHub account and free entitlements.{entitlements}"
      ],
      "metadata": {
        "id": "z7ruketQB7Ko"
      }
    },
    {
      "cell_type": "code",
      "execution_count": null,
      "metadata": {
        "colab": {
          "base_uri": "https://localhost:8080/",
          "height": 106
        },
        "id": "OdRq22DOAWFj",
        "outputId": "4f43d2c0-8385-4453-fa11-c63e5f50bac9"
      },
      "outputs": [
        {
          "output_type": "stream",
          "name": "stdout",
          "text": [
            "La palabra \"entitlements\" en este contexto se traduce como \"derechos\" o \"privilegios\". Se refiere a los beneficios o acceso que los usuarios de GitHub obtienen de forma gratuita, como la posibilidad de explorar modelos de IA, integrarlos en su entorno de desarrollo y utilizarlos en CI/CD.\n",
            "\n",
            "En un contexto diferente, \"entitlements\" puede referirse a un sentimiento de derecho o merecimiento. Por ejemplo, en inglés: \"He felt entitled to a promotion after working so hard.\" En español: \"Se sentía con derecho a un ascenso después de trabajar tan duro.\" \n",
            "\n"
          ]
        }
      ],
      "source": [
        "response = model.generate_content(\"From the early days of the home computer, the dominant mode of creation for developers has long been building, customizing, and deploying software with code. Today, in the age of AI, a secondary and equally important mode of creation is rapidly emerging: the ability to leverage machine learning models. Increasingly, developers are building generative AI applications where the full stack contains backend and frontend code plus one or more machine learning models. With GitHub Models, developers can now explore these models on github.com, integrate them into their dev environment in Codespaces and VS Code, and leverage them during CI/CD in Actions – all simply with their GitHub account and free entitlements.{entitlements}\")\n",
        "print(response.text)"
      ]
    },
    {
      "cell_type": "markdown",
      "source": [
        "**Output del modelo** (Ejemplo de una respuesta real)\n",
        "\n",
        "La palabra \"entitlements\" en este contexto se traduce como \"derechos\" o \"privilegios\". Se refiere a los beneficios o acceso que los usuarios de GitHub obtienen de forma gratuita, como la posibilidad de explorar modelos de IA, integrarlos en su entorno de desarrollo y utilizarlos en CI/CD.\n",
        "\n",
        "En un contexto diferente, \"entitlements\" puede referirse a un sentimiento de derecho o merecimiento. Por ejemplo, en inglés: \"He felt entitled to a promotion after working so hard.\" En español: \"Se sentía con derecho a un ascenso después de trabajar tan duro.\""
      ],
      "metadata": {
        "id": "6kpuNf8Hw3pb"
      }
    },
    {
      "cell_type": "markdown",
      "source": [
        "### Chat de práctica"
      ],
      "metadata": {
        "id": "66irQDJgeVHX"
      }
    },
    {
      "cell_type": "markdown",
      "source": [
        "Para este prompt quería probar el comportamiento del modelo al intentar mantener una conversación y si no se iba mucho de lo que le pedía.\n",
        "\n",
        "No utilicé ninguna tecnica más allá del Zero-shot Prompting ya que solo le digo lo que tiene que hacer, pero sorprendentemente le resultado es muy acertado."
      ],
      "metadata": {
        "id": "sWEB75WYUdAb"
      }
    },
    {
      "cell_type": "markdown",
      "source": [
        "**Model Instruction**\n",
        "\n",
        "Eres un profecional del inglés, y te van  a utilizar personas hispanohablantes para mejorar sus habilidades en el idioma inglés contigo. Intentarán mantener una conversación en inglés contigo y tu cada vez que tengan un error gramatical le recomendarás que lo corrija. Siempre hablaras en inglés, no podes hablar en español. Pero los usuarios si te pueden mezclar los idiomas inglés y español. Cada que te hablen  en español les diras como se escribe eso que dijo en español en inglés. Todo el tiempo mantendrás una conversación con el usuario y sacaras temas para que pueda practicar la escritura en inglés."
      ],
      "metadata": {
        "id": "hTl7nFUVe6vN"
      }
    },
    {
      "cell_type": "code",
      "source": [
        "\n",
        "model = genai.GenerativeModel(\n",
        "  model_name=\"gemini-1.5-flash\",\n",
        "  generation_config=generation_config,\n",
        "  # safety_settings = Adjust safety settings\n",
        "  # See https://ai.google.dev/gemini-api/docs/safety-settings\n",
        "  system_instruction=\"Eres un profecional del inglés, y te van  a utilizar personas hispanohablantes para mejorar sus habilidades en el idioma inglés contigo. Intentarán mantener una conversación en inglés contigo y tu cada vez que tengan un error gramatical le recomendarás que lo corrija. Siempre hablaras en inglés, no podes hablar en español. Pero los usuarios si te pueden mezclar los idiomas inglés y español. Cada que te hablen  en español les diras como se escribe eso que dijo en español en inglés. Todo el tiempo mantendrás una conversación con el usuario y sacaras temas para que pueda practicar la escritura en inglés.\",\n",
        ")"
      ],
      "metadata": {
        "id": "74HhfyLleaR3"
      },
      "execution_count": null,
      "outputs": []
    },
    {
      "cell_type": "markdown",
      "source": [
        "**Chat infinito con el usuario:**"
      ],
      "metadata": {
        "id": "ogh80HC2fCtC"
      }
    },
    {
      "cell_type": "code",
      "source": [
        "history_chat = []"
      ],
      "metadata": {
        "id": "Wfr4jFhjftXe"
      },
      "execution_count": null,
      "outputs": []
    },
    {
      "cell_type": "markdown",
      "source": [
        "\n",
        "\n",
        "> Se comienza con un historial vacío\n",
        "\n"
      ],
      "metadata": {
        "id": "wXRPUYGChXUk"
      }
    },
    {
      "cell_type": "code",
      "source": [
        "def infinite_chat():\n",
        "  chat_session = model.start_chat(\n",
        "    history=history_chat\n",
        "  )\n",
        "\n",
        "  while True:\n",
        "    user_input = input('Tu: ')\n",
        "    if user_input == \"salir\":\n",
        "      break\n",
        "    response = chat_session.send_message(user_input)\n",
        "    print(f'Model: {response.text}')\n",
        "\n",
        "    history_chat.append({'role': 'user', 'parts': [user_input]})\n",
        "    history_chat.append({'role': 'model', 'parts': [response.text]})\n"
      ],
      "metadata": {
        "id": "tiMofa-gfOQx"
      },
      "execution_count": null,
      "outputs": []
    },
    {
      "cell_type": "markdown",
      "source": [
        "\n",
        "\n",
        "> Código para mantener un chat con el modelo\n",
        "\n"
      ],
      "metadata": {
        "id": "kxgTh6vMVZWH"
      }
    },
    {
      "cell_type": "code",
      "source": [
        "infinite_chat()"
      ],
      "metadata": {
        "colab": {
          "base_uri": "https://localhost:8080/",
          "height": 86
        },
        "id": "V7WrkXuKgbH-",
        "outputId": "e22f0821-a52c-4e44-a428-fa7ab2b42921"
      },
      "execution_count": null,
      "outputs": [
        {
          "name": "stdout",
          "output_type": "stream",
          "text": [
            "Tu: Hola cómo estás?\n",
            "Model: Hello! How are you? You said \"Hola cómo estás?\" in Spanish. In English, you would say \"Hello, how are you?\"  Let's talk about your day. What did you do today? \n",
            "\n",
            "Tu: exit\n"
          ]
        }
      ]
    }
  ]
}